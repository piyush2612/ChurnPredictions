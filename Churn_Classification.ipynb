{
 "cells": [
  {
   "cell_type": "markdown",
   "metadata": {},
   "source": [
    "<h1>Churn Prediction</h1>"
   ]
  },
  {
   "cell_type": "code",
   "execution_count": 73,
   "metadata": {},
   "outputs": [],
   "source": [
    "# Importing the libraries\n",
    "import numpy as np\n",
    "import matplotlib.pyplot as plt\n",
    "import pandas as pd\n",
    "import seaborn as sns\n",
    "%matplotlib inline"
   ]
  },
  {
   "cell_type": "code",
   "execution_count": 74,
   "metadata": {},
   "outputs": [],
   "source": [
    "#Setting work directory\n",
    "import os\n",
    "os.chdir('C:\\\\Users\\\\pak16\\\\Desktop')"
   ]
  },
  {
   "cell_type": "code",
   "execution_count": 75,
   "metadata": {},
   "outputs": [],
   "source": [
    "# Importing the dataset\n",
    "dataset = pd.read_csv('Churn_Modelling.csv')"
   ]
  },
  {
   "cell_type": "markdown",
   "metadata": {},
   "source": [
    "<h2>Basic Stats and EDA</h2>"
   ]
  },
  {
   "cell_type": "code",
   "execution_count": 76,
   "metadata": {},
   "outputs": [
    {
     "data": {
      "text/html": [
       "<div>\n",
       "<style scoped>\n",
       "    .dataframe tbody tr th:only-of-type {\n",
       "        vertical-align: middle;\n",
       "    }\n",
       "\n",
       "    .dataframe tbody tr th {\n",
       "        vertical-align: top;\n",
       "    }\n",
       "\n",
       "    .dataframe thead th {\n",
       "        text-align: right;\n",
       "    }\n",
       "</style>\n",
       "<table border=\"1\" class=\"dataframe\">\n",
       "  <thead>\n",
       "    <tr style=\"text-align: right;\">\n",
       "      <th></th>\n",
       "      <th>RowNumber</th>\n",
       "      <th>CustomerId</th>\n",
       "      <th>Surname</th>\n",
       "      <th>CreditScore</th>\n",
       "      <th>Geography</th>\n",
       "      <th>Gender</th>\n",
       "      <th>Age</th>\n",
       "      <th>Tenure</th>\n",
       "      <th>Balance</th>\n",
       "      <th>NumOfProducts</th>\n",
       "      <th>HasCrCard</th>\n",
       "      <th>IsActiveMember</th>\n",
       "      <th>EstimatedSalary</th>\n",
       "      <th>Exited</th>\n",
       "    </tr>\n",
       "  </thead>\n",
       "  <tbody>\n",
       "    <tr>\n",
       "      <th>0</th>\n",
       "      <td>1</td>\n",
       "      <td>15634602</td>\n",
       "      <td>Hargrave</td>\n",
       "      <td>619</td>\n",
       "      <td>France</td>\n",
       "      <td>Female</td>\n",
       "      <td>42</td>\n",
       "      <td>2</td>\n",
       "      <td>0.00</td>\n",
       "      <td>1</td>\n",
       "      <td>1</td>\n",
       "      <td>1</td>\n",
       "      <td>101348.88</td>\n",
       "      <td>1</td>\n",
       "    </tr>\n",
       "    <tr>\n",
       "      <th>1</th>\n",
       "      <td>2</td>\n",
       "      <td>15647311</td>\n",
       "      <td>Hill</td>\n",
       "      <td>608</td>\n",
       "      <td>Spain</td>\n",
       "      <td>Female</td>\n",
       "      <td>41</td>\n",
       "      <td>1</td>\n",
       "      <td>83807.86</td>\n",
       "      <td>1</td>\n",
       "      <td>0</td>\n",
       "      <td>1</td>\n",
       "      <td>112542.58</td>\n",
       "      <td>0</td>\n",
       "    </tr>\n",
       "    <tr>\n",
       "      <th>2</th>\n",
       "      <td>3</td>\n",
       "      <td>15619304</td>\n",
       "      <td>Onio</td>\n",
       "      <td>502</td>\n",
       "      <td>France</td>\n",
       "      <td>Female</td>\n",
       "      <td>42</td>\n",
       "      <td>8</td>\n",
       "      <td>159660.80</td>\n",
       "      <td>3</td>\n",
       "      <td>1</td>\n",
       "      <td>0</td>\n",
       "      <td>113931.57</td>\n",
       "      <td>1</td>\n",
       "    </tr>\n",
       "    <tr>\n",
       "      <th>3</th>\n",
       "      <td>4</td>\n",
       "      <td>15701354</td>\n",
       "      <td>Boni</td>\n",
       "      <td>699</td>\n",
       "      <td>France</td>\n",
       "      <td>Female</td>\n",
       "      <td>39</td>\n",
       "      <td>1</td>\n",
       "      <td>0.00</td>\n",
       "      <td>2</td>\n",
       "      <td>0</td>\n",
       "      <td>0</td>\n",
       "      <td>93826.63</td>\n",
       "      <td>0</td>\n",
       "    </tr>\n",
       "    <tr>\n",
       "      <th>4</th>\n",
       "      <td>5</td>\n",
       "      <td>15737888</td>\n",
       "      <td>Mitchell</td>\n",
       "      <td>850</td>\n",
       "      <td>Spain</td>\n",
       "      <td>Female</td>\n",
       "      <td>43</td>\n",
       "      <td>2</td>\n",
       "      <td>125510.82</td>\n",
       "      <td>1</td>\n",
       "      <td>1</td>\n",
       "      <td>1</td>\n",
       "      <td>79084.10</td>\n",
       "      <td>0</td>\n",
       "    </tr>\n",
       "  </tbody>\n",
       "</table>\n",
       "</div>"
      ],
      "text/plain": [
       "   RowNumber  CustomerId   Surname  CreditScore Geography  Gender  Age  \\\n",
       "0          1    15634602  Hargrave          619    France  Female   42   \n",
       "1          2    15647311      Hill          608     Spain  Female   41   \n",
       "2          3    15619304      Onio          502    France  Female   42   \n",
       "3          4    15701354      Boni          699    France  Female   39   \n",
       "4          5    15737888  Mitchell          850     Spain  Female   43   \n",
       "\n",
       "   Tenure    Balance  NumOfProducts  HasCrCard  IsActiveMember  \\\n",
       "0       2       0.00              1          1               1   \n",
       "1       1   83807.86              1          0               1   \n",
       "2       8  159660.80              3          1               0   \n",
       "3       1       0.00              2          0               0   \n",
       "4       2  125510.82              1          1               1   \n",
       "\n",
       "   EstimatedSalary  Exited  \n",
       "0        101348.88       1  \n",
       "1        112542.58       0  \n",
       "2        113931.57       1  \n",
       "3         93826.63       0  \n",
       "4         79084.10       0  "
      ]
     },
     "execution_count": 76,
     "metadata": {},
     "output_type": "execute_result"
    }
   ],
   "source": [
    "dataset.head()"
   ]
  },
  {
   "cell_type": "code",
   "execution_count": 77,
   "metadata": {},
   "outputs": [
    {
     "name": "stdout",
     "output_type": "stream",
     "text": [
      "<class 'pandas.core.frame.DataFrame'>\n",
      "RangeIndex: 10000 entries, 0 to 9999\n",
      "Data columns (total 14 columns):\n",
      "RowNumber          10000 non-null int64\n",
      "CustomerId         10000 non-null int64\n",
      "Surname            10000 non-null object\n",
      "CreditScore        10000 non-null int64\n",
      "Geography          10000 non-null object\n",
      "Gender             10000 non-null object\n",
      "Age                10000 non-null int64\n",
      "Tenure             10000 non-null int64\n",
      "Balance            10000 non-null float64\n",
      "NumOfProducts      10000 non-null int64\n",
      "HasCrCard          10000 non-null int64\n",
      "IsActiveMember     10000 non-null int64\n",
      "EstimatedSalary    10000 non-null float64\n",
      "Exited             10000 non-null int64\n",
      "dtypes: float64(2), int64(9), object(3)\n",
      "memory usage: 1.1+ MB\n"
     ]
    }
   ],
   "source": [
    "dataset.info()"
   ]
  },
  {
   "cell_type": "code",
   "execution_count": 79,
   "metadata": {},
   "outputs": [
    {
     "data": {
      "text/plain": [
       "<matplotlib.axes._subplots.AxesSubplot at 0x1adaa07b160>"
      ]
     },
     "execution_count": 79,
     "metadata": {},
     "output_type": "execute_result"
    },
    {
     "data": {
      "image/png": "[encoded data removed]",
      "text/plain": [
       "<Figure size 432x288 with 1 Axes>"
      ]
     },
     "metadata": {},
     "output_type": "display_data"
    }
   ],
   "source": [
    "#checking for missing values\n",
    "sns.heatmap(dataset.isnull(),yticklabels=False,cbar=False,cmap='viridis')"
   ]
  },
  {
   "cell_type": "code",
   "execution_count": 108,
   "metadata": {},
   "outputs": [],
   "source": [
    "#no missing values "
   ]
  },
  {
   "cell_type": "code",
   "execution_count": 109,
   "metadata": {},
   "outputs": [
    {
     "data": {
      "text/plain": [
       "<matplotlib.axes._subplots.AxesSubplot at 0x1adab1eff28>"
      ]
     },
     "execution_count": 109,
     "metadata": {},
     "output_type": "execute_result"
    },
    {
     "data": {
      "image/png": "[encoded data removed]",
      "text/plain": [
       "<Figure size 432x288 with 2 Axes>"
      ]
     },
     "metadata": {},
     "output_type": "display_data"
    }
   ],
   "source": [
    "#checking for correlation\n",
    "sns.heatmap(dataset.corr())"
   ]
  },
  {
   "cell_type": "code",
   "execution_count": 110,
   "metadata": {},
   "outputs": [],
   "source": [
    "#Looks like age and exicted have correlation of 0.4 -accepted\n",
    "#Exicted and ActiveMember is negitively correlated\n",
    "#also no of products and balance is negitively correlated"
   ]
  },
  {
   "cell_type": "code",
   "execution_count": 111,
   "metadata": {},
   "outputs": [
    {
     "name": "stderr",
     "output_type": "stream",
     "text": [
      "C:\\Users\\pak16\\Anaconda3\\lib\\site-packages\\matplotlib\\axes\\_axes.py:6462: UserWarning: The 'normed' kwarg is deprecated, and has been replaced by the 'density' kwarg.\n",
      "  warnings.warn(\"The 'normed' kwarg is deprecated, and has been \"\n"
     ]
    },
    {
     "data": {
      "text/plain": [
       "<matplotlib.axes._subplots.AxesSubplot at 0x1adab2c9550>"
      ]
     },
     "execution_count": 111,
     "metadata": {},
     "output_type": "execute_result"
    },
    {
     "data": {
      "image/png": "[encoded data removed]",
      "text/plain": [
       "<Figure size 432x288 with 1 Axes>"
      ]
     },
     "metadata": {},
     "output_type": "display_data"
    }
   ],
   "source": [
    "sns.distplot(dataset['Age'].dropna(),kde=False,color='darkred',bins=30)"
   ]
  },
  {
   "cell_type": "code",
   "execution_count": 112,
   "metadata": {},
   "outputs": [],
   "source": [
    "#The age is Right skewed\n",
    "#maximum people are in 30-40 Age Range"
   ]
  },
  {
   "cell_type": "code",
   "execution_count": 113,
   "metadata": {},
   "outputs": [
    {
     "name": "stderr",
     "output_type": "stream",
     "text": [
      "C:\\Users\\pak16\\Anaconda3\\lib\\site-packages\\matplotlib\\axes\\_axes.py:6462: UserWarning: The 'normed' kwarg is deprecated, and has been replaced by the 'density' kwarg.\n",
      "  warnings.warn(\"The 'normed' kwarg is deprecated, and has been \"\n"
     ]
    },
    {
     "data": {
      "text/plain": [
       "<matplotlib.axes._subplots.AxesSubplot at 0x1adab2b2f98>"
      ]
     },
     "execution_count": 113,
     "metadata": {},
     "output_type": "execute_result"
    },
    {
     "data": {
      "image/png": "[encoded data removed]",
      "text/plain": [
       "<Figure size 432x288 with 1 Axes>"
      ]
     },
     "metadata": {},
     "output_type": "display_data"
    }
   ],
   "source": [
    "sns.distplot(dataset['CreditScore'].dropna(),kde=False,color='darkred',bins=30)\n"
   ]
  },
  {
   "cell_type": "code",
   "execution_count": 114,
   "metadata": {},
   "outputs": [],
   "source": [
    "###Credit Score is Left Skewed---which generally happens to be the case"
   ]
  },
  {
   "cell_type": "code",
   "execution_count": 115,
   "metadata": {},
   "outputs": [
    {
     "data": {
      "text/plain": [
       "<matplotlib.axes._subplots.AxesSubplot at 0x1adab3c62b0>"
      ]
     },
     "execution_count": 115,
     "metadata": {},
     "output_type": "execute_result"
    },
    {
     "data": {
      "image/png": "[encoded data removed]",
      "text/plain": [
       "<Figure size 432x288 with 1 Axes>"
      ]
     },
     "metadata": {},
     "output_type": "display_data"
    }
   ],
   "source": [
    "sns.set_style('whitegrid')\n",
    "sns.countplot(x='Geography',hue='Exited',data=dataset,palette='rainbow')"
   ]
  },
  {
   "cell_type": "code",
   "execution_count": 116,
   "metadata": {},
   "outputs": [],
   "source": [
    "#People from Germany have more tendency to leave\n",
    "#Not consideing total no. of people in each country's bank"
   ]
  },
  {
   "cell_type": "code",
   "execution_count": 117,
   "metadata": {},
   "outputs": [
    {
     "data": {
      "text/plain": [
       "<matplotlib.axes._subplots.AxesSubplot at 0x1adab472ba8>"
      ]
     },
     "execution_count": 117,
     "metadata": {},
     "output_type": "execute_result"
    },
    {
     "data": {
      "image/png": "[encoded data removed]",
      "text/plain": [
       "<Figure size 432x288 with 1 Axes>"
      ]
     },
     "metadata": {},
     "output_type": "display_data"
    }
   ],
   "source": [
    "sns.set_style('whitegrid')\n",
    "sns.countplot(x='NumOfProducts',hue='Exited',data=dataset,palette='RdBu_r')"
   ]
  },
  {
   "cell_type": "code",
   "execution_count": null,
   "metadata": {},
   "outputs": [],
   "source": [
    "#####People with 1 product are more likely to leave"
   ]
  },
  {
   "cell_type": "markdown",
   "metadata": {},
   "source": [
    "<h2>Data Cleaning</h2>"
   ]
  },
  {
   "cell_type": "code",
   "execution_count": 68,
   "metadata": {},
   "outputs": [
    {
     "data": {
      "text/html": [
       "<div>\n",
       "<style scoped>\n",
       "    .dataframe tbody tr th:only-of-type {\n",
       "        vertical-align: middle;\n",
       "    }\n",
       "\n",
       "    .dataframe tbody tr th {\n",
       "        vertical-align: top;\n",
       "    }\n",
       "\n",
       "    .dataframe thead th {\n",
       "        text-align: right;\n",
       "    }\n",
       "</style>\n",
       "<table border=\"1\" class=\"dataframe\">\n",
       "  <thead>\n",
       "    <tr style=\"text-align: right;\">\n",
       "      <th></th>\n",
       "      <th>RowNumber</th>\n",
       "      <th>CustomerId</th>\n",
       "      <th>CreditScore</th>\n",
       "      <th>Age</th>\n",
       "      <th>Tenure</th>\n",
       "      <th>Balance</th>\n",
       "      <th>NumOfProducts</th>\n",
       "      <th>HasCrCard</th>\n",
       "      <th>IsActiveMember</th>\n",
       "      <th>EstimatedSalary</th>\n",
       "      <th>Exited</th>\n",
       "    </tr>\n",
       "  </thead>\n",
       "  <tbody>\n",
       "    <tr>\n",
       "      <th>count</th>\n",
       "      <td>10000.00000</td>\n",
       "      <td>1.000000e+04</td>\n",
       "      <td>10000.000000</td>\n",
       "      <td>10000.000000</td>\n",
       "      <td>10000.000000</td>\n",
       "      <td>10000.000000</td>\n",
       "      <td>10000.000000</td>\n",
       "      <td>10000.00000</td>\n",
       "      <td>10000.000000</td>\n",
       "      <td>10000.000000</td>\n",
       "      <td>10000.000000</td>\n",
       "    </tr>\n",
       "    <tr>\n",
       "      <th>mean</th>\n",
       "      <td>5000.50000</td>\n",
       "      <td>1.569094e+07</td>\n",
       "      <td>650.528800</td>\n",
       "      <td>38.921800</td>\n",
       "      <td>5.012800</td>\n",
       "      <td>76485.889288</td>\n",
       "      <td>1.530200</td>\n",
       "      <td>0.70550</td>\n",
       "      <td>0.515100</td>\n",
       "      <td>100090.239881</td>\n",
       "      <td>0.203700</td>\n",
       "    </tr>\n",
       "    <tr>\n",
       "      <th>std</th>\n",
       "      <td>2886.89568</td>\n",
       "      <td>7.193619e+04</td>\n",
       "      <td>96.653299</td>\n",
       "      <td>10.487806</td>\n",
       "      <td>2.892174</td>\n",
       "      <td>62397.405202</td>\n",
       "      <td>0.581654</td>\n",
       "      <td>0.45584</td>\n",
       "      <td>0.499797</td>\n",
       "      <td>57510.492818</td>\n",
       "      <td>0.402769</td>\n",
       "    </tr>\n",
       "    <tr>\n",
       "      <th>min</th>\n",
       "      <td>1.00000</td>\n",
       "      <td>1.556570e+07</td>\n",
       "      <td>350.000000</td>\n",
       "      <td>18.000000</td>\n",
       "      <td>0.000000</td>\n",
       "      <td>0.000000</td>\n",
       "      <td>1.000000</td>\n",
       "      <td>0.00000</td>\n",
       "      <td>0.000000</td>\n",
       "      <td>11.580000</td>\n",
       "      <td>0.000000</td>\n",
       "    </tr>\n",
       "    <tr>\n",
       "      <th>25%</th>\n",
       "      <td>2500.75000</td>\n",
       "      <td>1.562853e+07</td>\n",
       "      <td>584.000000</td>\n",
       "      <td>32.000000</td>\n",
       "      <td>3.000000</td>\n",
       "      <td>0.000000</td>\n",
       "      <td>1.000000</td>\n",
       "      <td>0.00000</td>\n",
       "      <td>0.000000</td>\n",
       "      <td>51002.110000</td>\n",
       "      <td>0.000000</td>\n",
       "    </tr>\n",
       "    <tr>\n",
       "      <th>50%</th>\n",
       "      <td>5000.50000</td>\n",
       "      <td>1.569074e+07</td>\n",
       "      <td>652.000000</td>\n",
       "      <td>37.000000</td>\n",
       "      <td>5.000000</td>\n",
       "      <td>97198.540000</td>\n",
       "      <td>1.000000</td>\n",
       "      <td>1.00000</td>\n",
       "      <td>1.000000</td>\n",
       "      <td>100193.915000</td>\n",
       "      <td>0.000000</td>\n",
       "    </tr>\n",
       "    <tr>\n",
       "      <th>75%</th>\n",
       "      <td>7500.25000</td>\n",
       "      <td>1.575323e+07</td>\n",
       "      <td>718.000000</td>\n",
       "      <td>44.000000</td>\n",
       "      <td>7.000000</td>\n",
       "      <td>127644.240000</td>\n",
       "      <td>2.000000</td>\n",
       "      <td>1.00000</td>\n",
       "      <td>1.000000</td>\n",
       "      <td>149388.247500</td>\n",
       "      <td>0.000000</td>\n",
       "    </tr>\n",
       "    <tr>\n",
       "      <th>max</th>\n",
       "      <td>10000.00000</td>\n",
       "      <td>1.581569e+07</td>\n",
       "      <td>850.000000</td>\n",
       "      <td>92.000000</td>\n",
       "      <td>10.000000</td>\n",
       "      <td>250898.090000</td>\n",
       "      <td>4.000000</td>\n",
       "      <td>1.00000</td>\n",
       "      <td>1.000000</td>\n",
       "      <td>199992.480000</td>\n",
       "      <td>1.000000</td>\n",
       "    </tr>\n",
       "  </tbody>\n",
       "</table>\n",
       "</div>"
      ],
      "text/plain": [
       "         RowNumber    CustomerId   CreditScore           Age        Tenure  \\\n",
       "count  10000.00000  1.000000e+04  10000.000000  10000.000000  10000.000000   \n",
       "mean    5000.50000  1.569094e+07    650.528800     38.921800      5.012800   \n",
       "std     2886.89568  7.193619e+04     96.653299     10.487806      2.892174   \n",
       "min        1.00000  1.556570e+07    350.000000     18.000000      0.000000   \n",
       "25%     2500.75000  1.562853e+07    584.000000     32.000000      3.000000   \n",
       "50%     5000.50000  1.569074e+07    652.000000     37.000000      5.000000   \n",
       "75%     7500.25000  1.575323e+07    718.000000     44.000000      7.000000   \n",
       "max    10000.00000  1.581569e+07    850.000000     92.000000     10.000000   \n",
       "\n",
       "             Balance  NumOfProducts    HasCrCard  IsActiveMember  \\\n",
       "count   10000.000000   10000.000000  10000.00000    10000.000000   \n",
       "mean    76485.889288       1.530200      0.70550        0.515100   \n",
       "std     62397.405202       0.581654      0.45584        0.499797   \n",
       "min         0.000000       1.000000      0.00000        0.000000   \n",
       "25%         0.000000       1.000000      0.00000        0.000000   \n",
       "50%     97198.540000       1.000000      1.00000        1.000000   \n",
       "75%    127644.240000       2.000000      1.00000        1.000000   \n",
       "max    250898.090000       4.000000      1.00000        1.000000   \n",
       "\n",
       "       EstimatedSalary        Exited  \n",
       "count     10000.000000  10000.000000  \n",
       "mean     100090.239881      0.203700  \n",
       "std       57510.492818      0.402769  \n",
       "min          11.580000      0.000000  \n",
       "25%       51002.110000      0.000000  \n",
       "50%      100193.915000      0.000000  \n",
       "75%      149388.247500      0.000000  \n",
       "max      199992.480000      1.000000  "
      ]
     },
     "execution_count": 68,
     "metadata": {},
     "output_type": "execute_result"
    }
   ],
   "source": [
    "dataset.describe()"
   ]
  },
  {
   "cell_type": "code",
   "execution_count": 69,
   "metadata": {},
   "outputs": [],
   "source": [
    "####Estimated Salary has low values \n",
    "####Let's check estmated salary with high balance\n",
    "####basic assumption EstimatedSalary * Age(experience) <= Balance "
   ]
  },
  {
   "cell_type": "code",
   "execution_count": 93,
   "metadata": {},
   "outputs": [
    {
     "data": {
      "text/html": [
       "<div>\n",
       "<style scoped>\n",
       "    .dataframe tbody tr th:only-of-type {\n",
       "        vertical-align: middle;\n",
       "    }\n",
       "\n",
       "    .dataframe tbody tr th {\n",
       "        vertical-align: top;\n",
       "    }\n",
       "\n",
       "    .dataframe thead th {\n",
       "        text-align: right;\n",
       "    }\n",
       "</style>\n",
       "<table border=\"1\" class=\"dataframe\">\n",
       "  <thead>\n",
       "    <tr style=\"text-align: right;\">\n",
       "      <th></th>\n",
       "      <th>RowNumber</th>\n",
       "      <th>CustomerId</th>\n",
       "      <th>Surname</th>\n",
       "      <th>CreditScore</th>\n",
       "      <th>Geography</th>\n",
       "      <th>Gender</th>\n",
       "      <th>Age</th>\n",
       "      <th>Tenure</th>\n",
       "      <th>Balance</th>\n",
       "      <th>NumOfProducts</th>\n",
       "      <th>HasCrCard</th>\n",
       "      <th>IsActiveMember</th>\n",
       "      <th>EstimatedSalary</th>\n",
       "      <th>Exited</th>\n",
       "    </tr>\n",
       "  </thead>\n",
       "  <tbody>\n",
       "    <tr>\n",
       "      <th>195</th>\n",
       "      <td>196</td>\n",
       "      <td>15594815</td>\n",
       "      <td>Aleshire</td>\n",
       "      <td>807</td>\n",
       "      <td>France</td>\n",
       "      <td>Male</td>\n",
       "      <td>35</td>\n",
       "      <td>3</td>\n",
       "      <td>174790.15</td>\n",
       "      <td>1</td>\n",
       "      <td>1</td>\n",
       "      <td>1</td>\n",
       "      <td>600.36</td>\n",
       "      <td>0</td>\n",
       "    </tr>\n",
       "    <tr>\n",
       "      <th>361</th>\n",
       "      <td>362</td>\n",
       "      <td>15696674</td>\n",
       "      <td>Robinson</td>\n",
       "      <td>643</td>\n",
       "      <td>Germany</td>\n",
       "      <td>Female</td>\n",
       "      <td>45</td>\n",
       "      <td>2</td>\n",
       "      <td>150842.93</td>\n",
       "      <td>1</td>\n",
       "      <td>0</td>\n",
       "      <td>1</td>\n",
       "      <td>2319.96</td>\n",
       "      <td>1</td>\n",
       "    </tr>\n",
       "    <tr>\n",
       "      <th>396</th>\n",
       "      <td>397</td>\n",
       "      <td>15584766</td>\n",
       "      <td>Knight</td>\n",
       "      <td>557</td>\n",
       "      <td>France</td>\n",
       "      <td>Male</td>\n",
       "      <td>33</td>\n",
       "      <td>3</td>\n",
       "      <td>54503.55</td>\n",
       "      <td>1</td>\n",
       "      <td>1</td>\n",
       "      <td>1</td>\n",
       "      <td>371.05</td>\n",
       "      <td>0</td>\n",
       "    </tr>\n",
       "    <tr>\n",
       "      <th>551</th>\n",
       "      <td>552</td>\n",
       "      <td>15657284</td>\n",
       "      <td>Day</td>\n",
       "      <td>674</td>\n",
       "      <td>Germany</td>\n",
       "      <td>Male</td>\n",
       "      <td>47</td>\n",
       "      <td>6</td>\n",
       "      <td>106901.94</td>\n",
       "      <td>1</td>\n",
       "      <td>1</td>\n",
       "      <td>1</td>\n",
       "      <td>2079.20</td>\n",
       "      <td>1</td>\n",
       "    </tr>\n",
       "    <tr>\n",
       "      <th>591</th>\n",
       "      <td>592</td>\n",
       "      <td>15604044</td>\n",
       "      <td>Mitchell</td>\n",
       "      <td>700</td>\n",
       "      <td>France</td>\n",
       "      <td>Male</td>\n",
       "      <td>38</td>\n",
       "      <td>8</td>\n",
       "      <td>134811.30</td>\n",
       "      <td>1</td>\n",
       "      <td>1</td>\n",
       "      <td>0</td>\n",
       "      <td>1299.75</td>\n",
       "      <td>0</td>\n",
       "    </tr>\n",
       "  </tbody>\n",
       "</table>\n",
       "</div>"
      ],
      "text/plain": [
       "     RowNumber  CustomerId   Surname  CreditScore Geography  Gender  Age  \\\n",
       "195        196    15594815  Aleshire          807    France    Male   35   \n",
       "361        362    15696674  Robinson          643   Germany  Female   45   \n",
       "396        397    15584766    Knight          557    France    Male   33   \n",
       "551        552    15657284       Day          674   Germany    Male   47   \n",
       "591        592    15604044  Mitchell          700    France    Male   38   \n",
       "\n",
       "     Tenure    Balance  NumOfProducts  HasCrCard  IsActiveMember  \\\n",
       "195       3  174790.15              1          1               1   \n",
       "361       2  150842.93              1          0               1   \n",
       "396       3   54503.55              1          1               1   \n",
       "551       6  106901.94              1          1               1   \n",
       "591       8  134811.30              1          1               0   \n",
       "\n",
       "     EstimatedSalary  Exited  \n",
       "195           600.36       0  \n",
       "361          2319.96       1  \n",
       "396           371.05       0  \n",
       "551          2079.20       1  \n",
       "591          1299.75       0  "
      ]
     },
     "execution_count": 93,
     "metadata": {},
     "output_type": "execute_result"
    }
   ],
   "source": [
    "dataset[(dataset['EstimatedSalary']* (dataset['Age'])<=dataset['Balance']) & (dataset['Balance']>50000)].head()"
   ]
  },
  {
   "cell_type": "code",
   "execution_count": 45,
   "metadata": {},
   "outputs": [],
   "source": [
    "###Assumption is true person with $600 Estimated Salary and age 35 has $175000 as bank balance, which doesnt make any sense"
   ]
  },
  {
   "cell_type": "code",
   "execution_count": 94,
   "metadata": {},
   "outputs": [],
   "source": [
    "#replace those salaries by balance/age\n",
    "#only imputing small estimates with normal values\n",
    "dataset['EstimatedSalary']= np.where((dataset['EstimatedSalary']* (dataset['Age'])<dataset['Balance']) & (dataset['Balance']>50000),dataset['Balance']/dataset['Age'] , dataset['EstimatedSalary'])"
   ]
  },
  {
   "cell_type": "markdown",
   "metadata": {},
   "source": [
    "<h2>Feature Engineering</h2>"
   ]
  },
  {
   "cell_type": "code",
   "execution_count": 119,
   "metadata": {},
   "outputs": [],
   "source": [
    "#Dividing Dataset in to independent matrix and dependent vector\n",
    "X = dataset.iloc[:, 3:13].values\n",
    "y = dataset.iloc[:, 13].values"
   ]
  },
  {
   "cell_type": "code",
   "execution_count": 120,
   "metadata": {},
   "outputs": [],
   "source": [
    "# Encoding categorical data\n",
    "from sklearn.preprocessing import LabelEncoder, OneHotEncoder\n",
    "labelencoder_X_1 = LabelEncoder()\n",
    "X[:, 1] = labelencoder_X_1.fit_transform(X[:, 1])\n",
    "labelencoder_X_2 = LabelEncoder()\n",
    "X[:, 2] = labelencoder_X_2.fit_transform(X[:, 2])\n",
    "onehotencoder = OneHotEncoder(categorical_features = [1])\n",
    "X = onehotencoder.fit_transform(X).toarray()\n",
    "X = X[:, 1:]"
   ]
  },
  {
   "cell_type": "code",
   "execution_count": 121,
   "metadata": {},
   "outputs": [],
   "source": [
    "# Splitting the dataset into the Training set and Test set\n",
    "from sklearn.model_selection import train_test_split\n",
    "X_train, X_test, y_train, y_test = train_test_split(X, y, test_size = 0.2, random_state = 0)"
   ]
  },
  {
   "cell_type": "code",
   "execution_count": 122,
   "metadata": {},
   "outputs": [],
   "source": [
    "# Feature Scaling\n",
    "from sklearn.preprocessing import StandardScaler\n",
    "sc = StandardScaler()\n",
    "X_train = sc.fit_transform(X_train)\n",
    "X_test = sc.transform(X_test)"
   ]
  },
  {
   "cell_type": "code",
   "execution_count": 123,
   "metadata": {},
   "outputs": [],
   "source": [
    "#creating function for applying k-Fold Cross Validation\n",
    "\n",
    "def kfold(model,X,y):\n",
    "    from sklearn.model_selection import cross_validate\n",
    "    from sklearn.metrics import recall_score\n",
    "\n",
    "    scoring = ['accuracy','roc_auc', 'recall']\n",
    "\n",
    "\n",
    "    scores = cross_validate(model, X, y, scoring=scoring,\n",
    "                              cv=5, return_train_score=False)\n",
    "    return scores"
   ]
  },
  {
   "cell_type": "code",
   "execution_count": 142,
   "metadata": {},
   "outputs": [],
   "source": [
    "#defining function for ROC Curve\n",
    "def roc(y_test,y_pred,Model):   \n",
    "    from sklearn import metrics\n",
    "    fpr, tpr, thresholds = metrics.roc_curve(y_test, y_pred)\n",
    "\n",
    "    plt.plot(fpr, tpr)\n",
    "    plt.xlim([0.0, 1.0])\n",
    "    plt.ylim([0.0, 1.0])\n",
    "    plt.rcParams['font.size'] = 12\n",
    "    plt.title('ROC curve for Churn classifier: {}'.format(Model))\n",
    "    plt.xlabel('False Positive Rate (1 - Specificity)')\n",
    "    plt.ylabel('True Positive Rate (Sensitivity)')\n",
    "    plt.grid(True)"
   ]
  },
  {
   "cell_type": "code",
   "execution_count": 143,
   "metadata": {},
   "outputs": [],
   "source": [
    "# Fitting Logistic Regression to the Training set\n",
    "from sklearn.linear_model import LogisticRegression\n",
    "classifier_logistic = LogisticRegression()\n",
    "classifier_logistic.fit(X_train, y_train)\n",
    "\n",
    "# Predicting the Test set results\n",
    "y_pred_logistic = classifier_logistic.predict(X_test)\n",
    "\n",
    "#K fold Cross Validation\n",
    "scores_1=kfold(classifier_logistic,X,y)\n",
    "Model_1='Logistic Regression'"
   ]
  },
  {
   "cell_type": "code",
   "execution_count": 144,
   "metadata": {},
   "outputs": [
    {
     "data": {
      "image/png": "[encoded data removed]",
      "text/plain": [
       "<Figure size 432x288 with 1 Axes>"
      ]
     },
     "metadata": {},
     "output_type": "display_data"
    }
   ],
   "source": [
    "roc(y_test, y_pred_logistic,Model_1)"
   ]
  },
  {
   "cell_type": "code",
   "execution_count": 146,
   "metadata": {},
   "outputs": [],
   "source": [
    "# Fitting K-NN to the Training set\n",
    "from sklearn.neighbors import KNeighborsClassifier\n",
    "classifier_knn = KNeighborsClassifier(n_neighbors = 5, metric = 'minkowski', p = 2)#for Euclidean distance\n",
    "classifier_knn.fit(X_train, y_train)\n",
    "\n",
    "# Predicting the Test set results\n",
    "y_pred_knn = classifier_knn.predict(X_test)\n",
    "\n",
    "#K fold Cross Validation\n",
    "scores_2=kfold(classifier_knn,X,y)\n",
    "Model_2='K-Nearest Neighbours'"
   ]
  },
  {
   "cell_type": "code",
   "execution_count": 148,
   "metadata": {},
   "outputs": [
    {
     "data": {
      "image/png": "[encoded data removed]",
      "text/plain": [
       "<Figure size 432x288 with 1 Axes>"
      ]
     },
     "metadata": {},
     "output_type": "display_data"
    }
   ],
   "source": [
    "roc(y_test, y_pred_knn,Model_2)\n",
    "#better predictions than Linear Regression"
   ]
  },
  {
   "cell_type": "code",
   "execution_count": 131,
   "metadata": {},
   "outputs": [],
   "source": [
    "# Fitting Naive Bayes to the Training set\n",
    "from sklearn.naive_bayes import GaussianNB\n",
    "classifier_nb = GaussianNB()\n",
    "classifier_nb.fit(X_train, y_train)\n",
    "\n",
    "# Predicting the Test set results\n",
    "y_pred_nb = classifier_nb.predict(X_test)\n",
    "\n",
    "#K fold Cross Validation\n",
    "scores_3=kfold(classifier_nb,X,y)\n",
    "Model_3='Naive Bayes'"
   ]
  },
  {
   "cell_type": "code",
   "execution_count": 149,
   "metadata": {},
   "outputs": [
    {
     "data": {
      "image/png": "[encoded data removed]",
      "text/plain": [
       "<Figure size 432x288 with 1 Axes>"
      ]
     },
     "metadata": {},
     "output_type": "display_data"
    }
   ],
   "source": [
    "roc(y_test, y_pred_nb,Model_3)\n",
    "#similiar curve to k-nn\n",
    "#no improvement"
   ]
  },
  {
   "cell_type": "code",
   "execution_count": 133,
   "metadata": {},
   "outputs": [],
   "source": [
    "# Fitting Random Forest Classification to the Training set\n",
    "from sklearn.ensemble import RandomForestClassifier\n",
    "classifier_rf = RandomForestClassifier(n_estimators = 500)\n",
    "classifier_rf.fit(X_train, y_train)\n",
    "\n",
    "# Predicting the Test set results\n",
    "y_pred_rf = classifier_rf.predict(X_test)\n",
    "#K fold Cross Validation\n",
    "scores_4=kfold(classifier_rf,X,y)\n",
    "Model_4='Random Forest'"
   ]
  },
  {
   "cell_type": "code",
   "execution_count": 151,
   "metadata": {},
   "outputs": [
    {
     "data": {
      "image/png": "[encoded data removed]",
      "text/plain": [
       "<Figure size 432x288 with 1 Axes>"
      ]
     },
     "metadata": {},
     "output_type": "display_data"
    }
   ],
   "source": [
    "roc(y_test, y_pred_rf,Model_4)\n",
    "#better predictions than knn and naive bayes algorithms"
   ]
  },
  {
   "cell_type": "code",
   "execution_count": 137,
   "metadata": {},
   "outputs": [
    {
     "name": "stderr",
     "output_type": "stream",
     "text": [
      "C:\\Users\\pak16\\Anaconda3\\lib\\site-packages\\sklearn\\preprocessing\\label.py:151: DeprecationWarning: The truth value of an empty array is ambiguous. Returning False, but in future this will result in an error. Use `array.size > 0` to check that an array is not empty.\n",
      "  if diff:\n",
      "C:\\Users\\pak16\\Anaconda3\\lib\\site-packages\\sklearn\\preprocessing\\label.py:151: DeprecationWarning: The truth value of an empty array is ambiguous. Returning False, but in future this will result in an error. Use `array.size > 0` to check that an array is not empty.\n",
      "  if diff:\n",
      "C:\\Users\\pak16\\Anaconda3\\lib\\site-packages\\sklearn\\preprocessing\\label.py:151: DeprecationWarning: The truth value of an empty array is ambiguous. Returning False, but in future this will result in an error. Use `array.size > 0` to check that an array is not empty.\n",
      "  if diff:\n",
      "C:\\Users\\pak16\\Anaconda3\\lib\\site-packages\\sklearn\\preprocessing\\label.py:151: DeprecationWarning: The truth value of an empty array is ambiguous. Returning False, but in future this will result in an error. Use `array.size > 0` to check that an array is not empty.\n",
      "  if diff:\n",
      "C:\\Users\\pak16\\Anaconda3\\lib\\site-packages\\sklearn\\preprocessing\\label.py:151: DeprecationWarning: The truth value of an empty array is ambiguous. Returning False, but in future this will result in an error. Use `array.size > 0` to check that an array is not empty.\n",
      "  if diff:\n",
      "C:\\Users\\pak16\\Anaconda3\\lib\\site-packages\\sklearn\\preprocessing\\label.py:151: DeprecationWarning: The truth value of an empty array is ambiguous. Returning False, but in future this will result in an error. Use `array.size > 0` to check that an array is not empty.\n",
      "  if diff:\n",
      "C:\\Users\\pak16\\Anaconda3\\lib\\site-packages\\sklearn\\preprocessing\\label.py:151: DeprecationWarning: The truth value of an empty array is ambiguous. Returning False, but in future this will result in an error. Use `array.size > 0` to check that an array is not empty.\n",
      "  if diff:\n",
      "C:\\Users\\pak16\\Anaconda3\\lib\\site-packages\\sklearn\\preprocessing\\label.py:151: DeprecationWarning: The truth value of an empty array is ambiguous. Returning False, but in future this will result in an error. Use `array.size > 0` to check that an array is not empty.\n",
      "  if diff:\n",
      "C:\\Users\\pak16\\Anaconda3\\lib\\site-packages\\sklearn\\preprocessing\\label.py:151: DeprecationWarning: The truth value of an empty array is ambiguous. Returning False, but in future this will result in an error. Use `array.size > 0` to check that an array is not empty.\n",
      "  if diff:\n",
      "C:\\Users\\pak16\\Anaconda3\\lib\\site-packages\\sklearn\\preprocessing\\label.py:151: DeprecationWarning: The truth value of an empty array is ambiguous. Returning False, but in future this will result in an error. Use `array.size > 0` to check that an array is not empty.\n",
      "  if diff:\n",
      "C:\\Users\\pak16\\Anaconda3\\lib\\site-packages\\sklearn\\preprocessing\\label.py:151: DeprecationWarning: The truth value of an empty array is ambiguous. Returning False, but in future this will result in an error. Use `array.size > 0` to check that an array is not empty.\n",
      "  if diff:\n"
     ]
    }
   ],
   "source": [
    "# Fitting XGBoost to the Training set\n",
    "from xgboost import XGBClassifier\n",
    "classifier_xgb = XGBClassifier(n_estimators=500)\n",
    "classifier_xgb.fit(X_train, y_train)\n",
    "\n",
    "# Predicting the Test set results\n",
    "y_pred_xgb = classifier_xgb.predict(X_test)\n",
    "\n",
    "#K fold Cross Validation\n",
    "scores_5=kfold(classifier_xgb,X,y)\n",
    "Model_5='XGBoost'"
   ]
  },
  {
   "cell_type": "code",
   "execution_count": 152,
   "metadata": {},
   "outputs": [
    {
     "data": {
      "image/png": "[encoded data removed]",
      "text/plain": [
       "<Figure size 432x288 with 1 Axes>"
      ]
     },
     "metadata": {},
     "output_type": "display_data"
    }
   ],
   "source": [
    "roc(y_test, y_pred_xgb,Model_5)\n",
    "#Similar to Random Forest"
   ]
  },
  {
   "cell_type": "code",
   "execution_count": 154,
   "metadata": {},
   "outputs": [
    {
     "name": "stderr",
     "output_type": "stream",
     "text": [
      "C:\\Users\\pak16\\Anaconda3\\lib\\site-packages\\h5py\\__init__.py:36: FutureWarning: Conversion of the second argument of issubdtype from `float` to `np.floating` is deprecated. In future, it will be treated as `np.float64 == np.dtype(float).type`.\n",
      "  from ._conv import register_converters as _register_converters\n",
      "Using TensorFlow backend.\n"
     ]
    }
   ],
   "source": [
    "# Importing the Keras libraries and packages\n",
    "import keras\n",
    "from keras.models import Sequential\n",
    "from keras.layers import Dense"
   ]
  },
  {
   "cell_type": "code",
   "execution_count": 177,
   "metadata": {},
   "outputs": [
    {
     "name": "stderr",
     "output_type": "stream",
     "text": [
      "C:\\Users\\pak16\\Anaconda3\\lib\\site-packages\\ipykernel_launcher.py:5: UserWarning: Update your `Dense` call to the Keras 2 API: `Dense(activation=\"relu\", input_dim=11, units=6, kernel_initializer=\"uniform\")`\n",
      "  \"\"\"\n",
      "C:\\Users\\pak16\\Anaconda3\\lib\\site-packages\\ipykernel_launcher.py:8: UserWarning: Update your `Dense` call to the Keras 2 API: `Dense(activation=\"relu\", units=6, kernel_initializer=\"uniform\")`\n",
      "  \n",
      "C:\\Users\\pak16\\Anaconda3\\lib\\site-packages\\ipykernel_launcher.py:11: UserWarning: Update your `Dense` call to the Keras 2 API: `Dense(activation=\"sigmoid\", units=1, kernel_initializer=\"uniform\")`\n",
      "  # This is added back by InteractiveShellApp.init_path()\n",
      "C:\\Users\\pak16\\Anaconda3\\lib\\site-packages\\ipykernel_launcher.py:17: UserWarning: The `nb_epoch` argument in `fit` has been renamed `epochs`.\n"
     ]
    },
    {
     "name": "stdout",
     "output_type": "stream",
     "text": [
      "Epoch 1/100\n",
      "8000/8000 [==============================] - 1s 133us/step - loss: 0.6136 - acc: 0.7957\n",
      "Epoch 2/100\n",
      "8000/8000 [==============================] - 1s 85us/step - loss: 0.5189 - acc: 0.8107\n",
      "Epoch 3/100\n",
      "8000/8000 [==============================] - 1s 84us/step - loss: 0.4786 - acc: 0.8201\n",
      "Epoch 4/100\n",
      "8000/8000 [==============================] - 1s 86us/step - loss: 0.4673 - acc: 0.8216\n",
      "Epoch 5/100\n",
      "8000/8000 [==============================] - 1s 99us/step - loss: 0.4637 - acc: 0.8226\n",
      "Epoch 6/100\n",
      "8000/8000 [==============================] - 1s 86us/step - loss: 0.4621 - acc: 0.8231\n",
      "Epoch 7/100\n",
      "8000/8000 [==============================] - 1s 84us/step - loss: 0.4616 - acc: 0.8239\n",
      "Epoch 8/100\n",
      "8000/8000 [==============================] - 1s 88us/step - loss: 0.4610 - acc: 0.8241\n",
      "Epoch 9/100\n",
      "8000/8000 [==============================] - 1s 91us/step - loss: 0.4606 - acc: 0.8237\n",
      "Epoch 10/100\n",
      "8000/8000 [==============================] - 1s 86us/step - loss: 0.4605 - acc: 0.8231\n",
      "Epoch 11/100\n",
      "8000/8000 [==============================] - 1s 82us/step - loss: 0.4495 - acc: 0.8246\n",
      "Epoch 12/100\n",
      "8000/8000 [==============================] - 1s 87us/step - loss: 0.4091 - acc: 0.8232\n",
      "Epoch 13/100\n",
      "8000/8000 [==============================] - 1s 88us/step - loss: 0.3932 - acc: 0.8237\n",
      "Epoch 14/100\n",
      "8000/8000 [==============================] - 1s 89us/step - loss: 0.3834 - acc: 0.8237\n",
      "Epoch 15/100\n",
      "8000/8000 [==============================] - 1s 88us/step - loss: 0.3772 - acc: 0.8232\n",
      "Epoch 16/100\n",
      "8000/8000 [==============================] - 1s 86us/step - loss: 0.3728 - acc: 0.8240\n",
      "Epoch 17/100\n",
      "8000/8000 [==============================] - 1s 87us/step - loss: 0.3690 - acc: 0.8239\n",
      "Epoch 18/100\n",
      "8000/8000 [==============================] - 1s 89us/step - loss: 0.3656 - acc: 0.8240\n",
      "Epoch 19/100\n",
      "8000/8000 [==============================] - 1s 103us/step - loss: 0.3629 - acc: 0.8237\n",
      "Epoch 20/100\n",
      "8000/8000 [==============================] - 1s 98us/step - loss: 0.3605 - acc: 0.8241\n",
      "Epoch 21/100\n",
      "8000/8000 [==============================] - 1s 98us/step - loss: 0.3586 - acc: 0.8430\n",
      "Epoch 22/100\n",
      "8000/8000 [==============================] - 1s 88us/step - loss: 0.3568 - acc: 0.8531\n",
      "Epoch 23/100\n",
      "8000/8000 [==============================] - 1s 89us/step - loss: 0.3554 - acc: 0.8547\n",
      "Epoch 24/100\n",
      "8000/8000 [==============================] - 1s 89us/step - loss: 0.3539 - acc: 0.8586\n",
      "Epoch 25/100\n",
      "8000/8000 [==============================] - 1s 88us/step - loss: 0.3526 - acc: 0.8586\n",
      "Epoch 26/100\n",
      "8000/8000 [==============================] - 1s 90us/step - loss: 0.3516 - acc: 0.8580\n",
      "Epoch 27/100\n",
      "8000/8000 [==============================] - 1s 89us/step - loss: 0.3505 - acc: 0.8579\n",
      "Epoch 28/100\n",
      "8000/8000 [==============================] - 1s 97us/step - loss: 0.3497 - acc: 0.8580\n",
      "Epoch 29/100\n",
      "8000/8000 [==============================] - 1s 96us/step - loss: 0.3486 - acc: 0.8589\n",
      "Epoch 30/100\n",
      "8000/8000 [==============================] - 1s 88us/step - loss: 0.3479 - acc: 0.8575\n",
      "Epoch 31/100\n",
      "8000/8000 [==============================] - 1s 88us/step - loss: 0.3476 - acc: 0.8602\n",
      "Epoch 32/100\n",
      "8000/8000 [==============================] - 1s 89us/step - loss: 0.3466 - acc: 0.8597\n",
      "Epoch 33/100\n",
      "8000/8000 [==============================] - 1s 88us/step - loss: 0.3461 - acc: 0.8597\n",
      "Epoch 34/100\n",
      "8000/8000 [==============================] - 1s 86us/step - loss: 0.3453 - acc: 0.8611\n",
      "Epoch 35/100\n",
      "8000/8000 [==============================] - 1s 90us/step - loss: 0.3453 - acc: 0.8590\n",
      "Epoch 36/100\n",
      "8000/8000 [==============================] - 1s 87us/step - loss: 0.3447 - acc: 0.8609\n",
      "Epoch 37/100\n",
      "8000/8000 [==============================] - 1s 89us/step - loss: 0.3443 - acc: 0.8620\n",
      "Epoch 38/100\n",
      "8000/8000 [==============================] - 1s 89us/step - loss: 0.3435 - acc: 0.8616\n",
      "Epoch 39/100\n",
      "8000/8000 [==============================] - 1s 91us/step - loss: 0.3437 - acc: 0.8600\n",
      "Epoch 40/100\n",
      "8000/8000 [==============================] - 1s 89us/step - loss: 0.3428 - acc: 0.8616\n",
      "Epoch 41/100\n",
      "8000/8000 [==============================] - 1s 91us/step - loss: 0.3430 - acc: 0.8602\n",
      "Epoch 42/100\n",
      "8000/8000 [==============================] - 1s 102us/step - loss: 0.3427 - acc: 0.8602\n",
      "Epoch 43/100\n",
      "8000/8000 [==============================] - 1s 89us/step - loss: 0.3426 - acc: 0.8602\n",
      "Epoch 44/100\n",
      "8000/8000 [==============================] - 1s 88us/step - loss: 0.3422 - acc: 0.8615\n",
      "Epoch 45/100\n",
      "8000/8000 [==============================] - 1s 87us/step - loss: 0.3417 - acc: 0.8624\n",
      "Epoch 46/100\n",
      "8000/8000 [==============================] - 1s 89us/step - loss: 0.3409 - acc: 0.8616\n",
      "Epoch 47/100\n",
      "8000/8000 [==============================] - 1s 91us/step - loss: 0.3416 - acc: 0.8609\n",
      "Epoch 48/100\n",
      "8000/8000 [==============================] - 1s 87us/step - loss: 0.3407 - acc: 0.8602\n",
      "Epoch 49/100\n",
      "8000/8000 [==============================] - 1s 83us/step - loss: 0.3405 - acc: 0.8605\n",
      "Epoch 50/100\n",
      "8000/8000 [==============================] - 1s 85us/step - loss: 0.3399 - acc: 0.8614\n",
      "Epoch 51/100\n",
      "8000/8000 [==============================] - 1s 102us/step - loss: 0.3389 - acc: 0.8612\n",
      "Epoch 52/100\n",
      "8000/8000 [==============================] - 1s 98us/step - loss: 0.3391 - acc: 0.8625\n",
      "Epoch 53/100\n",
      "8000/8000 [==============================] - 1s 109us/step - loss: 0.3380 - acc: 0.8594\n",
      "Epoch 54/100\n",
      "8000/8000 [==============================] - 1s 103us/step - loss: 0.3374 - acc: 0.8615\n",
      "Epoch 55/100\n",
      "8000/8000 [==============================] - 1s 97us/step - loss: 0.3374 - acc: 0.8614\n",
      "Epoch 56/100\n",
      "8000/8000 [==============================] - 1s 97us/step - loss: 0.3369 - acc: 0.8604\n",
      "Epoch 57/100\n",
      "8000/8000 [==============================] - 1s 100us/step - loss: 0.3368 - acc: 0.8606\n",
      "Epoch 58/100\n",
      "8000/8000 [==============================] - 1s 99us/step - loss: 0.3361 - acc: 0.8614\n",
      "Epoch 59/100\n",
      "8000/8000 [==============================] - 1s 100us/step - loss: 0.3360 - acc: 0.8621\n",
      "Epoch 60/100\n",
      "8000/8000 [==============================] - 1s 102us/step - loss: 0.3358 - acc: 0.8614\n",
      "Epoch 61/100\n",
      "8000/8000 [==============================] - 1s 99us/step - loss: 0.3356 - acc: 0.8616\n",
      "Epoch 62/100\n",
      "8000/8000 [==============================] - 1s 101us/step - loss: 0.3358 - acc: 0.8615\n",
      "Epoch 63/100\n",
      "8000/8000 [==============================] - 1s 101us/step - loss: 0.3351 - acc: 0.8635\n",
      "Epoch 64/100\n",
      "8000/8000 [==============================] - 1s 103us/step - loss: 0.3358 - acc: 0.8619\n",
      "Epoch 65/100\n",
      "8000/8000 [==============================] - 1s 101us/step - loss: 0.3351 - acc: 0.8632\n",
      "Epoch 66/100\n",
      "8000/8000 [==============================] - 1s 101us/step - loss: 0.3353 - acc: 0.8612\n",
      "Epoch 67/100\n",
      "8000/8000 [==============================] - 1s 101us/step - loss: 0.3354 - acc: 0.8627\n",
      "Epoch 68/100\n",
      "8000/8000 [==============================] - 1s 102us/step - loss: 0.3350 - acc: 0.8617\n",
      "Epoch 69/100\n",
      "8000/8000 [==============================] - 1s 101us/step - loss: 0.3352 - acc: 0.8619\n",
      "Epoch 70/100\n",
      "8000/8000 [==============================] - 1s 100us/step - loss: 0.3342 - acc: 0.8620\n",
      "Epoch 71/100\n",
      "8000/8000 [==============================] - 1s 100us/step - loss: 0.3345 - acc: 0.8619\n",
      "Epoch 72/100\n",
      "8000/8000 [==============================] - 1s 91us/step - loss: 0.3347 - acc: 0.8616\n",
      "Epoch 73/100\n",
      "8000/8000 [==============================] - 1s 100us/step - loss: 0.3344 - acc: 0.8615\n",
      "Epoch 74/100\n",
      "8000/8000 [==============================] - 1s 101us/step - loss: 0.3344 - acc: 0.8610\n",
      "Epoch 75/100\n",
      "8000/8000 [==============================] - 1s 99us/step - loss: 0.3345 - acc: 0.8631\n",
      "Epoch 76/100\n",
      "8000/8000 [==============================] - 1s 99us/step - loss: 0.3339 - acc: 0.8631\n",
      "Epoch 77/100\n",
      "8000/8000 [==============================] - 1s 100us/step - loss: 0.3342 - acc: 0.8620\n",
      "Epoch 78/100\n",
      "8000/8000 [==============================] - 1s 97us/step - loss: 0.3345 - acc: 0.8624\n",
      "Epoch 79/100\n",
      "8000/8000 [==============================] - 1s 104us/step - loss: 0.3336 - acc: 0.8615\n",
      "Epoch 80/100\n",
      "8000/8000 [==============================] - 1s 102us/step - loss: 0.3339 - acc: 0.8629\n",
      "Epoch 81/100\n",
      "8000/8000 [==============================] - 1s 98us/step - loss: 0.3337 - acc: 0.8631\n",
      "Epoch 82/100\n"
     ]
    },
    {
     "name": "stdout",
     "output_type": "stream",
     "text": [
      "8000/8000 [==============================] - 1s 100us/step - loss: 0.3335 - acc: 0.8630\n",
      "Epoch 83/100\n",
      "8000/8000 [==============================] - 1s 96us/step - loss: 0.3336 - acc: 0.8636\n",
      "Epoch 84/100\n",
      "8000/8000 [==============================] - 1s 96us/step - loss: 0.3337 - acc: 0.8627\n",
      "Epoch 85/100\n",
      "8000/8000 [==============================] - 1s 100us/step - loss: 0.3331 - acc: 0.8640\n",
      "Epoch 86/100\n",
      "8000/8000 [==============================] - 1s 102us/step - loss: 0.3340 - acc: 0.8616\n",
      "Epoch 87/100\n",
      "8000/8000 [==============================] - 1s 98us/step - loss: 0.3336 - acc: 0.8630\n",
      "Epoch 88/100\n",
      "8000/8000 [==============================] - 1s 99us/step - loss: 0.3331 - acc: 0.8625\n",
      "Epoch 89/100\n",
      "8000/8000 [==============================] - 1s 101us/step - loss: 0.3330 - acc: 0.8646\n",
      "Epoch 90/100\n",
      "8000/8000 [==============================] - 1s 103us/step - loss: 0.3329 - acc: 0.8622\n",
      "Epoch 91/100\n",
      "8000/8000 [==============================] - 1s 97us/step - loss: 0.3328 - acc: 0.8646\n",
      "Epoch 92/100\n",
      "8000/8000 [==============================] - 1s 97us/step - loss: 0.3331 - acc: 0.8629\n",
      "Epoch 93/100\n",
      "8000/8000 [==============================] - 1s 86us/step - loss: 0.3337 - acc: 0.8615\n",
      "Epoch 94/100\n",
      "8000/8000 [==============================] - 1s 86us/step - loss: 0.3336 - acc: 0.8634\n",
      "Epoch 95/100\n",
      "8000/8000 [==============================] - 1s 96us/step - loss: 0.3333 - acc: 0.8634\n",
      "Epoch 96/100\n",
      "8000/8000 [==============================] - 1s 96us/step - loss: 0.3331 - acc: 0.8631\n",
      "Epoch 97/100\n",
      "8000/8000 [==============================] - 1s 96us/step - loss: 0.3334 - acc: 0.8624\n",
      "Epoch 98/100\n",
      "8000/8000 [==============================] - 1s 90us/step - loss: 0.3334 - acc: 0.8626\n",
      "Epoch 99/100\n",
      "8000/8000 [==============================] - 1s 95us/step - loss: 0.3329 - acc: 0.8626\n",
      "Epoch 100/100\n",
      "8000/8000 [==============================] - 1s 103us/step - loss: 0.3330 - acc: 0.8611\n"
     ]
    },
    {
     "data": {
      "text/plain": [
       "<keras.callbacks.History at 0x1adb02e6f28>"
      ]
     },
     "execution_count": 177,
     "metadata": {},
     "output_type": "execute_result"
    }
   ],
   "source": [
    "# Initialising the ANN\n",
    "classifier = Sequential()\n",
    "\n",
    "# Adding the input layer and the first hidden layer\n",
    "classifier.add(Dense(output_dim = 6, init = 'uniform', activation = 'relu', input_dim = 11))\n",
    "\n",
    "# Adding the second hidden layer\n",
    "classifier.add(Dense(output_dim = 6, init = 'uniform', activation = 'relu'))\n",
    "\n",
    "# Adding the output layer\n",
    "classifier.add(Dense(output_dim = 1, init = 'uniform', activation = 'sigmoid'))\n",
    "\n",
    "# Compiling the ANN\n",
    "classifier.compile(optimizer = 'adam', loss = 'binary_crossentropy',metrics=['accuracy'])\n",
    "\n",
    "# Fitting the ANN to the Training set\n",
    "classifier.fit(X_train, y_train, batch_size = 10, nb_epoch = 100)\n"
   ]
  },
  {
   "cell_type": "code",
   "execution_count": 178,
   "metadata": {},
   "outputs": [],
   "source": [
    "# Predicting the Test set results\n",
    "y_pred_ann = classifier.predict(X_test)\n",
    "y_pred_ann = (y_pred_ann > 0.5)\n",
    "Model_6='Neural Networks'"
   ]
  },
  {
   "cell_type": "code",
   "execution_count": 179,
   "metadata": {},
   "outputs": [
    {
     "data": {
      "image/png": "[encoded data removed]",
      "text/plain": [
       "<Figure size 432x288 with 1 Axes>"
      ]
     },
     "metadata": {},
     "output_type": "display_data"
    }
   ],
   "source": [
    "roc(y_test, y_pred_ann,Model_6)"
   ]
  },
  {
   "cell_type": "code",
   "execution_count": 180,
   "metadata": {},
   "outputs": [],
   "source": [
    "# Making the Confusion Matrix\n",
    "from sklearn.metrics import confusion_matrix,roc_auc_score\n",
    "roc_auc=roc_auc_score(y_test, y_pred_ann)\n",
    "cm = confusion_matrix(y_test, y_pred_ann)\n",
    "TP = cm[1, 1]\n",
    "TN = cm[0, 0]\n",
    "FP = cm[0, 1]\n",
    "FN = cm[1, 0]      \n",
    "accuracy=(TN+TP)/float(FP+FN+TP+TN)\n",
    "sensitivity = TP / float(FN + TP)  "
   ]
  },
  {
   "cell_type": "code",
   "execution_count": 182,
   "metadata": {},
   "outputs": [
    {
     "name": "stdout",
     "output_type": "stream",
     "text": [
      "Model Name            Accuracy           Sensitivity\n",
      "Logistic Regression   0.789899807874952  0.06430119959531723 0.6744653571670427\n",
      "K-Nearest Neighbours  0.7668999032749758 0.0908127378715614  0.5341704288760105\n",
      "Naive Bayes           0.7847001067250268 0.07511321481909718 0.7445942965564586\n",
      "Random Forest         0.8645990729997683 0.4727561786385316  0.855223265457596\n",
      "XGBoost               0.8640994229748558 0.4904321433733198  0.861554336170354\n",
      "Neural Networks       0.8575             0.508641975308642   0.7273617400054181\n"
     ]
    }
   ],
   "source": [
    "print(\"Model Name            Accuracy           Sensitivity\")\n",
    "print(Model_1,\" \",scores_1['test_accuracy'].mean(),\"\",scores_1['test_recall'].mean(),scores_1['test_roc_auc'].mean())\n",
    "print(Model_2,\"\",scores_2['test_accuracy'].mean(),scores_2['test_recall'].mean(),\"\",scores_2['test_roc_auc'].mean())\n",
    "print(Model_3,\"         \",scores_3['test_accuracy'].mean(),scores_3['test_recall'].mean(),scores_3['test_roc_auc'].mean())\n",
    "print(Model_4,\"       \",scores_4['test_accuracy'].mean(),scores_4['test_recall'].mean(),\"\",scores_4['test_roc_auc'].mean())\n",
    "print(Model_5,\"             \",scores_5['test_accuracy'].mean(),scores_5['test_recall'].mean(),\"\",scores_5['test_roc_auc'].mean())\n",
    "print(Model_6,\"     \",accuracy,\"           \",sensitivity,\" \",roc_auc)"
   ]
  },
  {
   "cell_type": "markdown",
   "metadata": {},
   "source": [
    "Random Forest Model has the highest accuracy of 86.46% followed by XGBoost with an accuracy of 86.41%\n",
    "But Since we are considering Churn predictions Sensitivity should be used as evaluation matrix because\n",
    "if we say a customer will not leave but he leaves, then it is big problem.\n",
    "In simple words, false positives (customers that are predicted to leave but don't leave) are more acceptable than false negatives (customers that are predicted not to leave but leave).\n",
    "\n",
    "Therefore, Neural Networks is the winner model with 50.86% sensitivity followed by  XGBoost(49.04%)"
   ]
  }
 ],
 "metadata": {
  "kernelspec": {
   "display_name": "Python 3",
   "language": "python",
   "name": "python3"
  },
  "language_info": {
   "codemirror_mode": {
    "name": "ipython",
    "version": 3
   },
   "file_extension": ".py",
   "mimetype": "text/x-python",
   "name": "python",
   "nbconvert_exporter": "python",
   "pygments_lexer": "ipython3",
   "version": "3.6.5"
  }
 },
 "nbformat": 4,
 "nbformat_minor": 2
}
